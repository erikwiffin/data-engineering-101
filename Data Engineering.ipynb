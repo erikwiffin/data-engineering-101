{
 "cells": [
  {
   "cell_type": "markdown",
   "id": "unusual-fighter",
   "metadata": {},
   "source": [
    "# Data Engineering for Other People\n",
    "\n",
    "### Or: Why is this software engineer being such a diva?\n",
    "\n",
    "So you've got some data. In my case, I've been keeping track of how successful my taco truck has been.\n",
    "\n",
    "![Taco Sales.xlsx](./images/taco-sales-xlsx.png)\n",
    "\n",
    "Nothing crazy, a date column, how many of each kind of taco I sold, and where I parked my taco truck that day.\n",
    "At this point, I'd like to create some sweet visualizations of my data, to better understand the fundamentals of my taco truck business. I know a little python, and I've heard it's good at this kind of thing, so I fire up a jupyter notebook and import it into a pandas dataframe."
   ]
  },
  {
   "cell_type": "code",
   "execution_count": 1,
   "id": "worthy-flexibility",
   "metadata": {},
   "outputs": [
    {
     "data": {
      "text/html": [
       "<div>\n",
       "<style scoped>\n",
       "    .dataframe tbody tr th:only-of-type {\n",
       "        vertical-align: middle;\n",
       "    }\n",
       "\n",
       "    .dataframe tbody tr th {\n",
       "        vertical-align: top;\n",
       "    }\n",
       "\n",
       "    .dataframe thead th {\n",
       "        text-align: right;\n",
       "    }\n",
       "</style>\n",
       "<table border=\"1\" class=\"dataframe\">\n",
       "  <thead>\n",
       "    <tr style=\"text-align: right;\">\n",
       "      <th></th>\n",
       "      <th>Unnamed: 0</th>\n",
       "      <th>Tacos</th>\n",
       "      <th>Unnamed: 2</th>\n",
       "      <th>Unnamed: 3</th>\n",
       "      <th>Unnamed: 4</th>\n",
       "    </tr>\n",
       "  </thead>\n",
       "  <tbody>\n",
       "    <tr>\n",
       "      <th>0</th>\n",
       "      <td>Date</td>\n",
       "      <td>Beef</td>\n",
       "      <td>Chicken</td>\n",
       "      <td>Pork</td>\n",
       "      <td>Location</td>\n",
       "    </tr>\n",
       "    <tr>\n",
       "      <th>1</th>\n",
       "      <td>2021-04-01 00:00:00</td>\n",
       "      <td>4</td>\n",
       "      <td>5</td>\n",
       "      <td>4</td>\n",
       "      <td>Golden</td>\n",
       "    </tr>\n",
       "    <tr>\n",
       "      <th>2</th>\n",
       "      <td>2021-04-02 00:00:00</td>\n",
       "      <td>3</td>\n",
       "      <td>5</td>\n",
       "      <td>3</td>\n",
       "      <td>Aurora</td>\n",
       "    </tr>\n",
       "    <tr>\n",
       "      <th>...</th>\n",
       "      <td>...</td>\n",
       "      <td>...</td>\n",
       "      <td>...</td>\n",
       "      <td>...</td>\n",
       "      <td>...</td>\n",
       "    </tr>\n",
       "    <tr>\n",
       "      <th>12</th>\n",
       "      <td>2021-04-12 00:00:00</td>\n",
       "      <td>2</td>\n",
       "      <td>3</td>\n",
       "      <td>4</td>\n",
       "      <td>Denver</td>\n",
       "    </tr>\n",
       "    <tr>\n",
       "      <th>13</th>\n",
       "      <td>2021-04-13 00:00:00</td>\n",
       "      <td>one</td>\n",
       "      <td>7</td>\n",
       "      <td>55</td>\n",
       "      <td>Denver</td>\n",
       "    </tr>\n",
       "    <tr>\n",
       "      <th>14</th>\n",
       "      <td>2021-04-14 00:00:00</td>\n",
       "      <td>0</td>\n",
       "      <td>3</td>\n",
       "      <td>5</td>\n",
       "      <td>Denver</td>\n",
       "    </tr>\n",
       "  </tbody>\n",
       "</table>\n",
       "<p>15 rows × 5 columns</p>\n",
       "</div>"
      ],
      "text/plain": [
       "             Unnamed: 0 Tacos Unnamed: 2 Unnamed: 3 Unnamed: 4\n",
       "0                  Date  Beef    Chicken       Pork   Location\n",
       "1   2021-04-01 00:00:00     4          5          4     Golden\n",
       "2   2021-04-02 00:00:00     3          5          3     Aurora\n",
       "..                  ...   ...        ...        ...        ...\n",
       "12  2021-04-12 00:00:00     2          3          4     Denver\n",
       "13  2021-04-13 00:00:00   one          7         55     Denver\n",
       "14  2021-04-14 00:00:00     0          3          5     Denver\n",
       "\n",
       "[15 rows x 5 columns]"
      ]
     },
     "execution_count": 1,
     "metadata": {},
     "output_type": "execute_result"
    }
   ],
   "source": [
    "import pandas as pd\n",
    "from matplotlib import cm\n",
    "\n",
    "pd.options.display.max_rows = 7\n",
    "\n",
    "df = pd.read_excel('./versions/Taco Sales - v1.xlsx')\n",
    "df"
   ]
  },
  {
   "cell_type": "markdown",
   "id": "finished-inclusion",
   "metadata": {},
   "source": [
    "Wow, that's not what I was expecting.\n",
    "\n",
    "Leaving aside the column headings, those dates aren't what I'm seeing in Excel at all!\n",
    "\n",
    "The usual solution to problems like this is \"plain text\", but Excel files don't work like that at all. Luckily, they can be converted to \"csv\"s, or Comma Separated Values, which are plain text, and can be viewed in a text editor to make sure your data is exactly what you expect it to be. To convert, click \"save as\" and then pick \"CSV\" from the list of dropdown options. You end up with something you can open in TextEdit that looks like this:\n",
    "\n",
    "![Taco Sales.csv](./images/taco-sales-csv.png)\n",
    "\n",
    "Not exactly the most readable thing in the world, but at least you can see exactly what your data looks like.\n",
    "\n",
    "Let's re-import that into pandas."
   ]
  },
  {
   "cell_type": "code",
   "execution_count": 2,
   "id": "protective-petroleum",
   "metadata": {},
   "outputs": [
    {
     "data": {
      "text/html": [
       "<div>\n",
       "<style scoped>\n",
       "    .dataframe tbody tr th:only-of-type {\n",
       "        vertical-align: middle;\n",
       "    }\n",
       "\n",
       "    .dataframe tbody tr th {\n",
       "        vertical-align: top;\n",
       "    }\n",
       "\n",
       "    .dataframe thead th {\n",
       "        text-align: right;\n",
       "    }\n",
       "</style>\n",
       "<table border=\"1\" class=\"dataframe\">\n",
       "  <thead>\n",
       "    <tr style=\"text-align: right;\">\n",
       "      <th></th>\n",
       "      <th>Unnamed: 0</th>\n",
       "      <th>Tacos</th>\n",
       "      <th>Unnamed: 2</th>\n",
       "      <th>Unnamed: 3</th>\n",
       "      <th>Unnamed: 4</th>\n",
       "    </tr>\n",
       "  </thead>\n",
       "  <tbody>\n",
       "    <tr>\n",
       "      <th>0</th>\n",
       "      <td>Date</td>\n",
       "      <td>Beef</td>\n",
       "      <td>Chicken</td>\n",
       "      <td>Pork</td>\n",
       "      <td>Location</td>\n",
       "    </tr>\n",
       "    <tr>\n",
       "      <th>1</th>\n",
       "      <td>4/1</td>\n",
       "      <td>4</td>\n",
       "      <td>5</td>\n",
       "      <td>4</td>\n",
       "      <td>Golden</td>\n",
       "    </tr>\n",
       "    <tr>\n",
       "      <th>2</th>\n",
       "      <td>4/2</td>\n",
       "      <td>3</td>\n",
       "      <td>5</td>\n",
       "      <td>3</td>\n",
       "      <td>Aurora</td>\n",
       "    </tr>\n",
       "    <tr>\n",
       "      <th>...</th>\n",
       "      <td>...</td>\n",
       "      <td>...</td>\n",
       "      <td>...</td>\n",
       "      <td>...</td>\n",
       "      <td>...</td>\n",
       "    </tr>\n",
       "    <tr>\n",
       "      <th>12</th>\n",
       "      <td>4/12</td>\n",
       "      <td>2</td>\n",
       "      <td>3</td>\n",
       "      <td>4</td>\n",
       "      <td>Denver</td>\n",
       "    </tr>\n",
       "    <tr>\n",
       "      <th>13</th>\n",
       "      <td>4/13</td>\n",
       "      <td>one</td>\n",
       "      <td>7</td>\n",
       "      <td>55</td>\n",
       "      <td>Denver</td>\n",
       "    </tr>\n",
       "    <tr>\n",
       "      <th>14</th>\n",
       "      <td>4/14</td>\n",
       "      <td>0</td>\n",
       "      <td>3</td>\n",
       "      <td>5</td>\n",
       "      <td>Denver</td>\n",
       "    </tr>\n",
       "  </tbody>\n",
       "</table>\n",
       "<p>15 rows × 5 columns</p>\n",
       "</div>"
      ],
      "text/plain": [
       "   Unnamed: 0 Tacos Unnamed: 2 Unnamed: 3 Unnamed: 4\n",
       "0        Date  Beef    Chicken       Pork   Location\n",
       "1         4/1     4          5          4     Golden\n",
       "2         4/2     3          5          3     Aurora\n",
       "..        ...   ...        ...        ...        ...\n",
       "12       4/12     2          3          4     Denver\n",
       "13       4/13   one          7         55     Denver\n",
       "14       4/14     0          3          5     Denver\n",
       "\n",
       "[15 rows x 5 columns]"
      ]
     },
     "execution_count": 2,
     "metadata": {},
     "output_type": "execute_result"
    }
   ],
   "source": [
    "df = pd.read_csv('./versions/Taco Sales - v1.csv')\n",
    "df"
   ]
  },
  {
   "cell_type": "markdown",
   "id": "impressed-mexico",
   "metadata": {},
   "source": [
    "That matches what we see in TextEdit, great!\n",
    "\n",
    "Now, that tacos row isn't doing us any favors. Pandas is trying to use it as the \"header row\", but the only useful piece of information in it is the word \"tacos\", and it's pushing our actual column labels into our data. Let's delete that."
   ]
  },
  {
   "cell_type": "code",
   "execution_count": 3,
   "id": "regulation-locator",
   "metadata": {},
   "outputs": [
    {
     "data": {
      "text/html": [
       "<div>\n",
       "<style scoped>\n",
       "    .dataframe tbody tr th:only-of-type {\n",
       "        vertical-align: middle;\n",
       "    }\n",
       "\n",
       "    .dataframe tbody tr th {\n",
       "        vertical-align: top;\n",
       "    }\n",
       "\n",
       "    .dataframe thead th {\n",
       "        text-align: right;\n",
       "    }\n",
       "</style>\n",
       "<table border=\"1\" class=\"dataframe\">\n",
       "  <thead>\n",
       "    <tr style=\"text-align: right;\">\n",
       "      <th></th>\n",
       "      <th>Beef</th>\n",
       "      <th>Chicken</th>\n",
       "      <th>Pork</th>\n",
       "      <th>Location</th>\n",
       "    </tr>\n",
       "    <tr>\n",
       "      <th>Date</th>\n",
       "      <th></th>\n",
       "      <th></th>\n",
       "      <th></th>\n",
       "      <th></th>\n",
       "    </tr>\n",
       "  </thead>\n",
       "  <tbody>\n",
       "    <tr>\n",
       "      <th>4/1</th>\n",
       "      <td>4</td>\n",
       "      <td>5</td>\n",
       "      <td>4</td>\n",
       "      <td>Golden</td>\n",
       "    </tr>\n",
       "    <tr>\n",
       "      <th>4/2</th>\n",
       "      <td>3</td>\n",
       "      <td>5</td>\n",
       "      <td>3</td>\n",
       "      <td>Aurora</td>\n",
       "    </tr>\n",
       "    <tr>\n",
       "      <th>4/3</th>\n",
       "      <td>one</td>\n",
       "      <td>three</td>\n",
       "      <td>five</td>\n",
       "      <td>Golden</td>\n",
       "    </tr>\n",
       "    <tr>\n",
       "      <th>...</th>\n",
       "      <td>...</td>\n",
       "      <td>...</td>\n",
       "      <td>...</td>\n",
       "      <td>...</td>\n",
       "    </tr>\n",
       "    <tr>\n",
       "      <th>4/12</th>\n",
       "      <td>2</td>\n",
       "      <td>3</td>\n",
       "      <td>4</td>\n",
       "      <td>Denver</td>\n",
       "    </tr>\n",
       "    <tr>\n",
       "      <th>4/13</th>\n",
       "      <td>one</td>\n",
       "      <td>7</td>\n",
       "      <td>55</td>\n",
       "      <td>Denver</td>\n",
       "    </tr>\n",
       "    <tr>\n",
       "      <th>4/14</th>\n",
       "      <td>0</td>\n",
       "      <td>3</td>\n",
       "      <td>5</td>\n",
       "      <td>Denver</td>\n",
       "    </tr>\n",
       "  </tbody>\n",
       "</table>\n",
       "<p>14 rows × 4 columns</p>\n",
       "</div>"
      ],
      "text/plain": [
       "     Beef Chicken  Pork Location\n",
       "Date                            \n",
       "4/1     4       5     4   Golden\n",
       "4/2     3       5     3   Aurora\n",
       "4/3   one   three  five  Golden \n",
       "...   ...     ...   ...      ...\n",
       "4/12    2       3     4   Denver\n",
       "4/13  one       7    55   Denver\n",
       "4/14    0       3     5   Denver\n",
       "\n",
       "[14 rows x 4 columns]"
      ]
     },
     "execution_count": 3,
     "metadata": {},
     "output_type": "execute_result"
    }
   ],
   "source": [
    "df = pd.read_csv('./versions/Taco Sales - v2.csv', index_col='Date')\n",
    "df"
   ]
  },
  {
   "cell_type": "markdown",
   "id": "suited-christmas",
   "metadata": {},
   "source": [
    "Now we're cooking! I think we're ready to plot our sales..."
   ]
  },
  {
   "cell_type": "code",
   "execution_count": 4,
   "id": "ecological-shanghai",
   "metadata": {},
   "outputs": [
    {
     "ename": "TypeError",
     "evalue": "no numeric data to plot",
     "output_type": "error",
     "traceback": [
      "\u001b[0;31m---------------------------------------------------------------------------\u001b[0m",
      "\u001b[0;31mTypeError\u001b[0m                                 Traceback (most recent call last)",
      "\u001b[0;32m<ipython-input-4-6894eca31d4b>\u001b[0m in \u001b[0;36m<module>\u001b[0;34m\u001b[0m\n\u001b[0;32m----> 1\u001b[0;31m \u001b[0mdf\u001b[0m\u001b[0;34m[\u001b[0m\u001b[0;34m[\u001b[0m\u001b[0;34m'Beef'\u001b[0m\u001b[0;34m,\u001b[0m \u001b[0;34m'Chicken'\u001b[0m\u001b[0;34m,\u001b[0m \u001b[0;34m'Pork'\u001b[0m\u001b[0;34m]\u001b[0m\u001b[0;34m]\u001b[0m\u001b[0;34m.\u001b[0m\u001b[0mplot\u001b[0m\u001b[0;34m(\u001b[0m\u001b[0mcolormap\u001b[0m\u001b[0;34m=\u001b[0m\u001b[0mcm\u001b[0m\u001b[0;34m.\u001b[0m\u001b[0mPaired\u001b[0m\u001b[0;34m)\u001b[0m\u001b[0;34m\u001b[0m\u001b[0;34m\u001b[0m\u001b[0m\n\u001b[0m",
      "\u001b[0;32m~/Documents/notebooks/.venv/lib/python3.8/site-packages/pandas/plotting/_core.py\u001b[0m in \u001b[0;36m__call__\u001b[0;34m(self, *args, **kwargs)\u001b[0m\n\u001b[1;32m    953\u001b[0m                     \u001b[0mdata\u001b[0m\u001b[0;34m.\u001b[0m\u001b[0mcolumns\u001b[0m \u001b[0;34m=\u001b[0m \u001b[0mlabel_name\u001b[0m\u001b[0;34m\u001b[0m\u001b[0;34m\u001b[0m\u001b[0m\n\u001b[1;32m    954\u001b[0m \u001b[0;34m\u001b[0m\u001b[0m\n\u001b[0;32m--> 955\u001b[0;31m         \u001b[0;32mreturn\u001b[0m \u001b[0mplot_backend\u001b[0m\u001b[0;34m.\u001b[0m\u001b[0mplot\u001b[0m\u001b[0;34m(\u001b[0m\u001b[0mdata\u001b[0m\u001b[0;34m,\u001b[0m \u001b[0mkind\u001b[0m\u001b[0;34m=\u001b[0m\u001b[0mkind\u001b[0m\u001b[0;34m,\u001b[0m \u001b[0;34m**\u001b[0m\u001b[0mkwargs\u001b[0m\u001b[0;34m)\u001b[0m\u001b[0;34m\u001b[0m\u001b[0;34m\u001b[0m\u001b[0m\n\u001b[0m\u001b[1;32m    956\u001b[0m \u001b[0;34m\u001b[0m\u001b[0m\n\u001b[1;32m    957\u001b[0m     \u001b[0m__call__\u001b[0m\u001b[0;34m.\u001b[0m\u001b[0m__doc__\u001b[0m \u001b[0;34m=\u001b[0m \u001b[0m__doc__\u001b[0m\u001b[0;34m\u001b[0m\u001b[0;34m\u001b[0m\u001b[0m\n",
      "\u001b[0;32m~/Documents/notebooks/.venv/lib/python3.8/site-packages/pandas/plotting/_matplotlib/__init__.py\u001b[0m in \u001b[0;36mplot\u001b[0;34m(data, kind, **kwargs)\u001b[0m\n\u001b[1;32m     59\u001b[0m             \u001b[0mkwargs\u001b[0m\u001b[0;34m[\u001b[0m\u001b[0;34m\"ax\"\u001b[0m\u001b[0;34m]\u001b[0m \u001b[0;34m=\u001b[0m \u001b[0mgetattr\u001b[0m\u001b[0;34m(\u001b[0m\u001b[0max\u001b[0m\u001b[0;34m,\u001b[0m \u001b[0;34m\"left_ax\"\u001b[0m\u001b[0;34m,\u001b[0m \u001b[0max\u001b[0m\u001b[0;34m)\u001b[0m\u001b[0;34m\u001b[0m\u001b[0;34m\u001b[0m\u001b[0m\n\u001b[1;32m     60\u001b[0m     \u001b[0mplot_obj\u001b[0m \u001b[0;34m=\u001b[0m \u001b[0mPLOT_CLASSES\u001b[0m\u001b[0;34m[\u001b[0m\u001b[0mkind\u001b[0m\u001b[0;34m]\u001b[0m\u001b[0;34m(\u001b[0m\u001b[0mdata\u001b[0m\u001b[0;34m,\u001b[0m \u001b[0;34m**\u001b[0m\u001b[0mkwargs\u001b[0m\u001b[0;34m)\u001b[0m\u001b[0;34m\u001b[0m\u001b[0;34m\u001b[0m\u001b[0m\n\u001b[0;32m---> 61\u001b[0;31m     \u001b[0mplot_obj\u001b[0m\u001b[0;34m.\u001b[0m\u001b[0mgenerate\u001b[0m\u001b[0;34m(\u001b[0m\u001b[0;34m)\u001b[0m\u001b[0;34m\u001b[0m\u001b[0;34m\u001b[0m\u001b[0m\n\u001b[0m\u001b[1;32m     62\u001b[0m     \u001b[0mplot_obj\u001b[0m\u001b[0;34m.\u001b[0m\u001b[0mdraw\u001b[0m\u001b[0;34m(\u001b[0m\u001b[0;34m)\u001b[0m\u001b[0;34m\u001b[0m\u001b[0;34m\u001b[0m\u001b[0m\n\u001b[1;32m     63\u001b[0m     \u001b[0;32mreturn\u001b[0m \u001b[0mplot_obj\u001b[0m\u001b[0;34m.\u001b[0m\u001b[0mresult\u001b[0m\u001b[0;34m\u001b[0m\u001b[0;34m\u001b[0m\u001b[0m\n",
      "\u001b[0;32m~/Documents/notebooks/.venv/lib/python3.8/site-packages/pandas/plotting/_matplotlib/core.py\u001b[0m in \u001b[0;36mgenerate\u001b[0;34m(self)\u001b[0m\n\u001b[1;32m    276\u001b[0m     \u001b[0;32mdef\u001b[0m \u001b[0mgenerate\u001b[0m\u001b[0;34m(\u001b[0m\u001b[0mself\u001b[0m\u001b[0;34m)\u001b[0m\u001b[0;34m:\u001b[0m\u001b[0;34m\u001b[0m\u001b[0;34m\u001b[0m\u001b[0m\n\u001b[1;32m    277\u001b[0m         \u001b[0mself\u001b[0m\u001b[0;34m.\u001b[0m\u001b[0m_args_adjust\u001b[0m\u001b[0;34m(\u001b[0m\u001b[0;34m)\u001b[0m\u001b[0;34m\u001b[0m\u001b[0;34m\u001b[0m\u001b[0m\n\u001b[0;32m--> 278\u001b[0;31m         \u001b[0mself\u001b[0m\u001b[0;34m.\u001b[0m\u001b[0m_compute_plot_data\u001b[0m\u001b[0;34m(\u001b[0m\u001b[0;34m)\u001b[0m\u001b[0;34m\u001b[0m\u001b[0;34m\u001b[0m\u001b[0m\n\u001b[0m\u001b[1;32m    279\u001b[0m         \u001b[0mself\u001b[0m\u001b[0;34m.\u001b[0m\u001b[0m_setup_subplots\u001b[0m\u001b[0;34m(\u001b[0m\u001b[0;34m)\u001b[0m\u001b[0;34m\u001b[0m\u001b[0;34m\u001b[0m\u001b[0m\n\u001b[1;32m    280\u001b[0m         \u001b[0mself\u001b[0m\u001b[0;34m.\u001b[0m\u001b[0m_make_plot\u001b[0m\u001b[0;34m(\u001b[0m\u001b[0;34m)\u001b[0m\u001b[0;34m\u001b[0m\u001b[0;34m\u001b[0m\u001b[0m\n",
      "\u001b[0;32m~/Documents/notebooks/.venv/lib/python3.8/site-packages/pandas/plotting/_matplotlib/core.py\u001b[0m in \u001b[0;36m_compute_plot_data\u001b[0;34m(self)\u001b[0m\n\u001b[1;32m    439\u001b[0m         \u001b[0;31m# no non-numeric frames or series allowed\u001b[0m\u001b[0;34m\u001b[0m\u001b[0;34m\u001b[0m\u001b[0;34m\u001b[0m\u001b[0m\n\u001b[1;32m    440\u001b[0m         \u001b[0;32mif\u001b[0m \u001b[0mis_empty\u001b[0m\u001b[0;34m:\u001b[0m\u001b[0;34m\u001b[0m\u001b[0;34m\u001b[0m\u001b[0m\n\u001b[0;32m--> 441\u001b[0;31m             \u001b[0;32mraise\u001b[0m \u001b[0mTypeError\u001b[0m\u001b[0;34m(\u001b[0m\u001b[0;34m\"no numeric data to plot\"\u001b[0m\u001b[0;34m)\u001b[0m\u001b[0;34m\u001b[0m\u001b[0;34m\u001b[0m\u001b[0m\n\u001b[0m\u001b[1;32m    442\u001b[0m \u001b[0;34m\u001b[0m\u001b[0m\n\u001b[1;32m    443\u001b[0m         \u001b[0mself\u001b[0m\u001b[0;34m.\u001b[0m\u001b[0mdata\u001b[0m \u001b[0;34m=\u001b[0m \u001b[0mnumeric_data\u001b[0m\u001b[0;34m.\u001b[0m\u001b[0mapply\u001b[0m\u001b[0;34m(\u001b[0m\u001b[0mself\u001b[0m\u001b[0;34m.\u001b[0m\u001b[0m_convert_to_ndarray\u001b[0m\u001b[0;34m)\u001b[0m\u001b[0;34m\u001b[0m\u001b[0;34m\u001b[0m\u001b[0m\n",
      "\u001b[0;31mTypeError\u001b[0m: no numeric data to plot"
     ]
    }
   ],
   "source": [
    "df[['Beef', 'Chicken', 'Pork']].plot(colormap=cm.Paired)"
   ]
  },
  {
   "cell_type": "markdown",
   "id": "historic-oklahoma",
   "metadata": {},
   "source": [
    "Oh no!\n",
    "\n",
    "If we google this error message, we find that there's a pandas function `to_numeric` that might help us, but as you can see, that has its own problems."
   ]
  },
  {
   "cell_type": "code",
   "execution_count": 5,
   "id": "separate-procurement",
   "metadata": {},
   "outputs": [
    {
     "data": {
      "text/plain": [
       "<AxesSubplot:xlabel='Date'>"
      ]
     },
     "execution_count": 5,
     "metadata": {},
     "output_type": "execute_result"
    },
    {
     "data": {
      "image/png": "[encoded data removed]",
      "text/plain": [
       "<Figure size 432x288 with 1 Axes>"
      ]
     },
     "metadata": {
      "needs_background": "light"
     },
     "output_type": "display_data"
    }
   ],
   "source": [
    "df['Beef'] = pd.to_numeric(df['Beef'], errors='coerce')\n",
    "df['Chicken'] = pd.to_numeric(df['Chicken'], errors='coerce')\n",
    "df['Pork'] = pd.to_numeric(df['Pork'], errors='coerce')\n",
    "\n",
    "df[['Beef', 'Chicken', 'Pork']].plot(colormap=cm.Paired)"
   ]
  },
  {
   "cell_type": "markdown",
   "id": "weighted-classics",
   "metadata": {},
   "source": [
    "Our chart has holes in it!\n",
    "\n",
    "The only way to fix this is to back to the source, and make sure that we consistently write our numbers as numbers, and not as their english equivalent. \"1\" not \"one\", \"0\" not \"-\"!"
   ]
  },
  {
   "cell_type": "code",
   "execution_count": 6,
   "id": "political-wrist",
   "metadata": {},
   "outputs": [
    {
     "data": {
      "text/plain": [
       "<AxesSubplot:xlabel='Date'>"
      ]
     },
     "execution_count": 6,
     "metadata": {},
     "output_type": "execute_result"
    },
    {
     "data": {
      "image/png": "[encoded data removed]",
      "text/plain": [
       "<Figure size 432x288 with 1 Axes>"
      ]
     },
     "metadata": {
      "needs_background": "light"
     },
     "output_type": "display_data"
    }
   ],
   "source": [
    "df = pd.read_csv('./versions/Taco Sales - v3.csv', index_col='Date')\n",
    "df[['Beef', 'Chicken', 'Pork']].plot(colormap=cm.Paired)"
   ]
  },
  {
   "cell_type": "markdown",
   "id": "discrete-electron",
   "metadata": {},
   "source": [
    "And we should probably do the something similar to the Date column so that we don't see that random \"April 11\"."
   ]
  },
  {
   "cell_type": "code",
   "execution_count": 7,
   "id": "understanding-brass",
   "metadata": {},
   "outputs": [
    {
     "data": {
      "text/plain": [
       "<AxesSubplot:xlabel='Date'>"
      ]
     },
     "execution_count": 7,
     "metadata": {},
     "output_type": "execute_result"
    },
    {
     "data": {
      "image/png": "[encoded data removed]",
      "text/plain": [
       "<Figure size 432x288 with 1 Axes>"
      ]
     },
     "metadata": {
      "needs_background": "light"
     },
     "output_type": "display_data"
    }
   ],
   "source": [
    "df = pd.read_csv('./versions/Taco Sales - v4.csv', index_col='Date')\n",
    "df[['Beef', 'Chicken', 'Pork']].plot(colormap=cm.Paired)"
   ]
  },
  {
   "cell_type": "markdown",
   "id": "hispanic-typing",
   "metadata": {},
   "source": [
    "There's a weird spike on the 13th, but we'll come back to that later.\n",
    "\n",
    "Now that I'm tracking how much I'm selling, it would be nice to know where I'm spending most of my time."
   ]
  },
  {
   "cell_type": "code",
   "execution_count": 8,
   "id": "hazardous-element",
   "metadata": {},
   "outputs": [
    {
     "data": {
      "text/plain": [
       "<AxesSubplot:>"
      ]
     },
     "execution_count": 8,
     "metadata": {},
     "output_type": "execute_result"
    },
    {
     "data": {
      "image/png": "[encoded data removed]",
      "text/plain": [
       "<Figure size 432x288 with 1 Axes>"
      ]
     },
     "metadata": {
      "needs_background": "light"
     },
     "output_type": "display_data"
    }
   ],
   "source": [
    "df['Location'].value_counts().plot(kind='bar', colormap=cm.Paired)"
   ]
  },
  {
   "cell_type": "markdown",
   "id": "reduced-complex",
   "metadata": {},
   "source": [
    "Well that's not helpful. Most of these cities are in there twice!"
   ]
  },
  {
   "cell_type": "code",
   "execution_count": 9,
   "id": "considered-count",
   "metadata": {},
   "outputs": [
    {
     "data": {
      "text/plain": [
       "array(['Golden', 'Aurora', 'Golden ', 'Boulder', 'Denver', 'Lakewood ',\n",
       "       'denver', 'boulder', 'Lakewood'], dtype=object)"
      ]
     },
     "execution_count": 9,
     "metadata": {},
     "output_type": "execute_result"
    }
   ],
   "source": [
    "df['Location'].unique()"
   ]
  },
  {
   "cell_type": "markdown",
   "id": "modern-resort",
   "metadata": {},
   "source": [
    "The problem is that these values are not *exactly* the same. Inconsistent casing, or extra spaces make pandas treat them as separate labels.\n",
    "\n",
    "This is another thing we need to clean up first."
   ]
  },
  {
   "cell_type": "code",
   "execution_count": 10,
   "id": "indirect-patient",
   "metadata": {},
   "outputs": [
    {
     "data": {
      "text/plain": [
       "array(['Golden', 'Aurora', 'Boulder', 'Denver', 'Lakewood'], dtype=object)"
      ]
     },
     "execution_count": 10,
     "metadata": {},
     "output_type": "execute_result"
    }
   ],
   "source": [
    "df = pd.read_csv('./versions/Taco Sales - v5.csv', index_col='Date')\n",
    "df['Location'].unique()"
   ]
  },
  {
   "cell_type": "code",
   "execution_count": 11,
   "id": "disabled-spread",
   "metadata": {},
   "outputs": [
    {
     "data": {
      "text/plain": [
       "<AxesSubplot:>"
      ]
     },
     "execution_count": 11,
     "metadata": {},
     "output_type": "execute_result"
    },
    {
     "data": {
      "image/png": "[encoded data removed]",
      "text/plain": [
       "<Figure size 432x288 with 1 Axes>"
      ]
     },
     "metadata": {
      "needs_background": "light"
     },
     "output_type": "display_data"
    }
   ],
   "source": [
    "df['Location'].value_counts().plot(kind='bar', colormap=cm.Paired)"
   ]
  },
  {
   "cell_type": "markdown",
   "id": "challenging-clone",
   "metadata": {},
   "source": [
    "Perfect!\n",
    "\n",
    "Another useful piece of information is weather data. That's in a separate tab in the excel file, so we'll export that as a csv and load it up."
   ]
  },
  {
   "cell_type": "code",
   "execution_count": 12,
   "id": "ordinary-amber",
   "metadata": {},
   "outputs": [
    {
     "data": {
      "text/html": [
       "<div>\n",
       "<style scoped>\n",
       "    .dataframe tbody tr th:only-of-type {\n",
       "        vertical-align: middle;\n",
       "    }\n",
       "\n",
       "    .dataframe tbody tr th {\n",
       "        vertical-align: top;\n",
       "    }\n",
       "\n",
       "    .dataframe thead th {\n",
       "        text-align: right;\n",
       "    }\n",
       "</style>\n",
       "<table border=\"1\" class=\"dataframe\">\n",
       "  <thead>\n",
       "    <tr style=\"text-align: right;\">\n",
       "      <th></th>\n",
       "      <th>Week</th>\n",
       "      <th>Date</th>\n",
       "      <th>Weather</th>\n",
       "    </tr>\n",
       "  </thead>\n",
       "  <tbody>\n",
       "    <tr>\n",
       "      <th>0</th>\n",
       "      <td>3/28</td>\n",
       "      <td>Thu</td>\n",
       "      <td>Cloudy</td>\n",
       "    </tr>\n",
       "    <tr>\n",
       "      <th>1</th>\n",
       "      <td>3/28</td>\n",
       "      <td>Fri</td>\n",
       "      <td>Sun</td>\n",
       "    </tr>\n",
       "    <tr>\n",
       "      <th>2</th>\n",
       "      <td>3/28</td>\n",
       "      <td>Sat</td>\n",
       "      <td>Sun</td>\n",
       "    </tr>\n",
       "    <tr>\n",
       "      <th>...</th>\n",
       "      <td>...</td>\n",
       "      <td>...</td>\n",
       "      <td>...</td>\n",
       "    </tr>\n",
       "    <tr>\n",
       "      <th>11</th>\n",
       "      <td>4/11</td>\n",
       "      <td>Mon</td>\n",
       "      <td>Wind</td>\n",
       "    </tr>\n",
       "    <tr>\n",
       "      <th>12</th>\n",
       "      <td>4/11</td>\n",
       "      <td>Tue</td>\n",
       "      <td>Sun</td>\n",
       "    </tr>\n",
       "    <tr>\n",
       "      <th>13</th>\n",
       "      <td>4/11</td>\n",
       "      <td>Wed</td>\n",
       "      <td>Sun</td>\n",
       "    </tr>\n",
       "  </tbody>\n",
       "</table>\n",
       "<p>14 rows × 3 columns</p>\n",
       "</div>"
      ],
      "text/plain": [
       "    Week Date Weather\n",
       "0   3/28  Thu  Cloudy\n",
       "1   3/28  Fri     Sun\n",
       "2   3/28  Sat     Sun\n",
       "..   ...  ...     ...\n",
       "11  4/11  Mon    Wind\n",
       "12  4/11  Tue     Sun\n",
       "13  4/11  Wed     Sun\n",
       "\n",
       "[14 rows x 3 columns]"
      ]
     },
     "execution_count": 12,
     "metadata": {},
     "output_type": "execute_result"
    }
   ],
   "source": [
    "weather_df = pd.read_csv('./versions/Weather - v1.csv')\n",
    "weather_df = weather_df.fillna(method='ffill')\n",
    "weather_df"
   ]
  },
  {
   "cell_type": "markdown",
   "id": "characteristic-eagle",
   "metadata": {},
   "source": [
    "Pandas has a join method so we can connect that to our original dataset..."
   ]
  },
  {
   "cell_type": "code",
   "execution_count": 13,
   "id": "absent-rogers",
   "metadata": {},
   "outputs": [
    {
     "data": {
      "text/html": [
       "<div>\n",
       "<style scoped>\n",
       "    .dataframe tbody tr th:only-of-type {\n",
       "        vertical-align: middle;\n",
       "    }\n",
       "\n",
       "    .dataframe tbody tr th {\n",
       "        vertical-align: top;\n",
       "    }\n",
       "\n",
       "    .dataframe thead th {\n",
       "        text-align: right;\n",
       "    }\n",
       "</style>\n",
       "<table border=\"1\" class=\"dataframe\">\n",
       "  <thead>\n",
       "    <tr style=\"text-align: right;\">\n",
       "      <th></th>\n",
       "      <th>Beef</th>\n",
       "      <th>Chicken</th>\n",
       "      <th>Pork</th>\n",
       "      <th>Location</th>\n",
       "      <th>Week</th>\n",
       "      <th>Date</th>\n",
       "      <th>Weather</th>\n",
       "    </tr>\n",
       "  </thead>\n",
       "  <tbody>\n",
       "    <tr>\n",
       "      <th>0</th>\n",
       "      <td>NaN</td>\n",
       "      <td>NaN</td>\n",
       "      <td>NaN</td>\n",
       "      <td>NaN</td>\n",
       "      <td>3/28</td>\n",
       "      <td>Thu</td>\n",
       "      <td>Cloudy</td>\n",
       "    </tr>\n",
       "    <tr>\n",
       "      <th>1</th>\n",
       "      <td>NaN</td>\n",
       "      <td>NaN</td>\n",
       "      <td>NaN</td>\n",
       "      <td>NaN</td>\n",
       "      <td>3/28</td>\n",
       "      <td>Fri</td>\n",
       "      <td>Sun</td>\n",
       "    </tr>\n",
       "    <tr>\n",
       "      <th>2</th>\n",
       "      <td>NaN</td>\n",
       "      <td>NaN</td>\n",
       "      <td>NaN</td>\n",
       "      <td>NaN</td>\n",
       "      <td>3/28</td>\n",
       "      <td>Sat</td>\n",
       "      <td>Sun</td>\n",
       "    </tr>\n",
       "    <tr>\n",
       "      <th>...</th>\n",
       "      <td>...</td>\n",
       "      <td>...</td>\n",
       "      <td>...</td>\n",
       "      <td>...</td>\n",
       "      <td>...</td>\n",
       "      <td>...</td>\n",
       "      <td>...</td>\n",
       "    </tr>\n",
       "    <tr>\n",
       "      <th>4/7</th>\n",
       "      <td>1.0</td>\n",
       "      <td>8.0</td>\n",
       "      <td>3.0</td>\n",
       "      <td>Denver</td>\n",
       "      <td>NaN</td>\n",
       "      <td>NaN</td>\n",
       "      <td>NaN</td>\n",
       "    </tr>\n",
       "    <tr>\n",
       "      <th>4/8</th>\n",
       "      <td>1.0</td>\n",
       "      <td>3.0</td>\n",
       "      <td>5.0</td>\n",
       "      <td>Boulder</td>\n",
       "      <td>NaN</td>\n",
       "      <td>NaN</td>\n",
       "      <td>NaN</td>\n",
       "    </tr>\n",
       "    <tr>\n",
       "      <th>4/9</th>\n",
       "      <td>3.0</td>\n",
       "      <td>5.0</td>\n",
       "      <td>5.0</td>\n",
       "      <td>Golden</td>\n",
       "      <td>NaN</td>\n",
       "      <td>NaN</td>\n",
       "      <td>NaN</td>\n",
       "    </tr>\n",
       "  </tbody>\n",
       "</table>\n",
       "<p>28 rows × 7 columns</p>\n",
       "</div>"
      ],
      "text/plain": [
       "     Beef  Chicken  Pork Location  Week Date Weather\n",
       "0     NaN      NaN   NaN      NaN  3/28  Thu  Cloudy\n",
       "1     NaN      NaN   NaN      NaN  3/28  Fri     Sun\n",
       "2     NaN      NaN   NaN      NaN  3/28  Sat     Sun\n",
       "..    ...      ...   ...      ...   ...  ...     ...\n",
       "4/7   1.0      8.0   3.0   Denver   NaN  NaN     NaN\n",
       "4/8   1.0      3.0   5.0  Boulder   NaN  NaN     NaN\n",
       "4/9   3.0      5.0   5.0   Golden   NaN  NaN     NaN\n",
       "\n",
       "[28 rows x 7 columns]"
      ]
     },
     "execution_count": 13,
     "metadata": {},
     "output_type": "execute_result"
    }
   ],
   "source": [
    "df.join(weather_df, how='outer')"
   ]
  },
  {
   "cell_type": "markdown",
   "id": "collect-bangladesh",
   "metadata": {},
   "source": [
    "Not so much.\n",
    "\n",
    "Pandas needs an index to join on, and to actually match content, the index in both dataframes needs to be identical.\n",
    "\n",
    "So another round of hand-editing, and we have a dataset we can join on."
   ]
  },
  {
   "cell_type": "code",
   "execution_count": 14,
   "id": "global-vertical",
   "metadata": {},
   "outputs": [
    {
     "data": {
      "text/html": [
       "<div>\n",
       "<style scoped>\n",
       "    .dataframe tbody tr th:only-of-type {\n",
       "        vertical-align: middle;\n",
       "    }\n",
       "\n",
       "    .dataframe tbody tr th {\n",
       "        vertical-align: top;\n",
       "    }\n",
       "\n",
       "    .dataframe thead th {\n",
       "        text-align: right;\n",
       "    }\n",
       "</style>\n",
       "<table border=\"1\" class=\"dataframe\">\n",
       "  <thead>\n",
       "    <tr style=\"text-align: right;\">\n",
       "      <th></th>\n",
       "      <th>Weather</th>\n",
       "    </tr>\n",
       "    <tr>\n",
       "      <th>Date</th>\n",
       "      <th></th>\n",
       "    </tr>\n",
       "  </thead>\n",
       "  <tbody>\n",
       "    <tr>\n",
       "      <th>4/1</th>\n",
       "      <td>Cloudy</td>\n",
       "    </tr>\n",
       "    <tr>\n",
       "      <th>4/2</th>\n",
       "      <td>Sun</td>\n",
       "    </tr>\n",
       "    <tr>\n",
       "      <th>4/3</th>\n",
       "      <td>Sun</td>\n",
       "    </tr>\n",
       "    <tr>\n",
       "      <th>...</th>\n",
       "      <td>...</td>\n",
       "    </tr>\n",
       "    <tr>\n",
       "      <th>4/12</th>\n",
       "      <td>Wind</td>\n",
       "    </tr>\n",
       "    <tr>\n",
       "      <th>4/13</th>\n",
       "      <td>Sun</td>\n",
       "    </tr>\n",
       "    <tr>\n",
       "      <th>4/14</th>\n",
       "      <td>Sun</td>\n",
       "    </tr>\n",
       "  </tbody>\n",
       "</table>\n",
       "<p>14 rows × 1 columns</p>\n",
       "</div>"
      ],
      "text/plain": [
       "     Weather\n",
       "Date        \n",
       "4/1   Cloudy\n",
       "4/2      Sun\n",
       "4/3      Sun\n",
       "...      ...\n",
       "4/12    Wind\n",
       "4/13     Sun\n",
       "4/14     Sun\n",
       "\n",
       "[14 rows x 1 columns]"
      ]
     },
     "execution_count": 14,
     "metadata": {},
     "output_type": "execute_result"
    }
   ],
   "source": [
    "weather_df = pd.read_csv('./versions/Weather - v2.csv', index_col='Date')\n",
    "weather_df"
   ]
  },
  {
   "cell_type": "code",
   "execution_count": 15,
   "id": "accomplished-commercial",
   "metadata": {},
   "outputs": [
    {
     "data": {
      "text/html": [
       "<div>\n",
       "<style scoped>\n",
       "    .dataframe tbody tr th:only-of-type {\n",
       "        vertical-align: middle;\n",
       "    }\n",
       "\n",
       "    .dataframe tbody tr th {\n",
       "        vertical-align: top;\n",
       "    }\n",
       "\n",
       "    .dataframe thead th {\n",
       "        text-align: right;\n",
       "    }\n",
       "</style>\n",
       "<table border=\"1\" class=\"dataframe\">\n",
       "  <thead>\n",
       "    <tr style=\"text-align: right;\">\n",
       "      <th></th>\n",
       "      <th>Beef</th>\n",
       "      <th>Chicken</th>\n",
       "      <th>Pork</th>\n",
       "      <th>Location</th>\n",
       "      <th>Weather</th>\n",
       "    </tr>\n",
       "    <tr>\n",
       "      <th>Date</th>\n",
       "      <th></th>\n",
       "      <th></th>\n",
       "      <th></th>\n",
       "      <th></th>\n",
       "      <th></th>\n",
       "    </tr>\n",
       "  </thead>\n",
       "  <tbody>\n",
       "    <tr>\n",
       "      <th>4/1</th>\n",
       "      <td>4</td>\n",
       "      <td>5</td>\n",
       "      <td>4</td>\n",
       "      <td>Golden</td>\n",
       "      <td>Cloudy</td>\n",
       "    </tr>\n",
       "    <tr>\n",
       "      <th>4/2</th>\n",
       "      <td>3</td>\n",
       "      <td>5</td>\n",
       "      <td>3</td>\n",
       "      <td>Aurora</td>\n",
       "      <td>Sun</td>\n",
       "    </tr>\n",
       "    <tr>\n",
       "      <th>4/3</th>\n",
       "      <td>1</td>\n",
       "      <td>3</td>\n",
       "      <td>5</td>\n",
       "      <td>Golden</td>\n",
       "      <td>Sun</td>\n",
       "    </tr>\n",
       "    <tr>\n",
       "      <th>...</th>\n",
       "      <td>...</td>\n",
       "      <td>...</td>\n",
       "      <td>...</td>\n",
       "      <td>...</td>\n",
       "      <td>...</td>\n",
       "    </tr>\n",
       "    <tr>\n",
       "      <th>4/12</th>\n",
       "      <td>2</td>\n",
       "      <td>3</td>\n",
       "      <td>4</td>\n",
       "      <td>Denver</td>\n",
       "      <td>Wind</td>\n",
       "    </tr>\n",
       "    <tr>\n",
       "      <th>4/13</th>\n",
       "      <td>1</td>\n",
       "      <td>7</td>\n",
       "      <td>55</td>\n",
       "      <td>Denver</td>\n",
       "      <td>Sun</td>\n",
       "    </tr>\n",
       "    <tr>\n",
       "      <th>4/14</th>\n",
       "      <td>0</td>\n",
       "      <td>3</td>\n",
       "      <td>5</td>\n",
       "      <td>Denver</td>\n",
       "      <td>Sun</td>\n",
       "    </tr>\n",
       "  </tbody>\n",
       "</table>\n",
       "<p>14 rows × 5 columns</p>\n",
       "</div>"
      ],
      "text/plain": [
       "      Beef  Chicken  Pork Location Weather\n",
       "Date                                      \n",
       "4/1      4        5     4   Golden  Cloudy\n",
       "4/2      3        5     3   Aurora     Sun\n",
       "4/3      1        3     5   Golden     Sun\n",
       "...    ...      ...   ...      ...     ...\n",
       "4/12     2        3     4   Denver    Wind\n",
       "4/13     1        7    55   Denver     Sun\n",
       "4/14     0        3     5   Denver     Sun\n",
       "\n",
       "[14 rows x 5 columns]"
      ]
     },
     "execution_count": 15,
     "metadata": {},
     "output_type": "execute_result"
    }
   ],
   "source": [
    "df = df.join(weather_df)\n",
    "df"
   ]
  },
  {
   "cell_type": "markdown",
   "id": "cutting-belly",
   "metadata": {},
   "source": [
    "Now that we've joined both datasets, we can group the first one by weather, and see on average how many tacos we sell depending on the weather."
   ]
  },
  {
   "cell_type": "code",
   "execution_count": 16,
   "id": "victorian-platform",
   "metadata": {},
   "outputs": [
    {
     "data": {
      "text/plain": [
       "<AxesSubplot:xlabel='Weather'>"
      ]
     },
     "execution_count": 16,
     "metadata": {},
     "output_type": "execute_result"
    },
    {
     "data": {
      "image/png": "[encoded data removed]",
      "text/plain": [
       "<Figure size 432x288 with 1 Axes>"
      ]
     },
     "metadata": {
      "needs_background": "light"
     },
     "output_type": "display_data"
    }
   ],
   "source": [
    "df[['Beef', 'Chicken', 'Pork', 'Weather']].groupby('Weather').mean().plot(kind='bar', colormap=cm.Paired)"
   ]
  },
  {
   "cell_type": "markdown",
   "id": "heated-excerpt",
   "metadata": {},
   "source": [
    "Remember that weird spike in pork sales on the 13th we noticed earlier?\n",
    "\n",
    "![Pork Spike](./images/pork-spike.png)\n",
    "\n",
    "We can obviously see that there's something wrong with our data here, but with some datasets, the data engineer working with the data may not have the domain knowledge or context to recognize outliers. In situations like that, it's really helpful to provide them with a \"codebook\", or description of the dataset. In it, whoever put together the initial dataset can describe their data - the \"weather\" column should have labels like \"sun\", \"rain\", etc; pork sales should be an integer (no half tacos!) between 0 and 15; and so on.\n",
    "\n",
    "You can ignore the code in the next cell, it's just going through and automatically generating a codebook off of our dataset."
   ]
  },
  {
   "cell_type": "code",
   "execution_count": 17,
   "id": "massive-authorization",
   "metadata": {},
   "outputs": [],
   "source": [
    "df['Weather'] = df['Weather'].astype(\"category\")\n",
    "df['Location'] = df['Location'].astype(\"category\")\n",
    "\n",
    "desc_df = pd.DataFrame(index=['count', 'dtype', 'unique', 'top', 'freq', 'mean', 'std', 'min', '25%', '50%', '75%', 'max'])\n",
    "cats_df = pd.DataFrame()\n",
    "labels = set()\n",
    "\n",
    "for col in df.columns:\n",
    "    df_col = df[col].describe().to_frame().astype('object')\n",
    "    df_col.loc['dtype'] = df[col].dtype.name\n",
    "    labels = labels | set(df_col.index.values)\n",
    "\n",
    "    desc_df = desc_df.join(df_col, how='left')\n",
    "    \n",
    "    if df[col].dtype.name == 'category':\n",
    "        df_cats = df[col].dtype.categories\\\n",
    "            .to_frame(name=col)\\\n",
    "            .reset_index(drop=True)\n",
    "        cats_df = cats_df.join(df_cats, how='outer')\n",
    "    \n",
    "desc_df = desc_df.append(cats_df)\n",
    "desc_df.to_csv('./codebook.csv')"
   ]
  },
  {
   "cell_type": "markdown",
   "id": "respiratory-lexington",
   "metadata": {},
   "source": [
    "The resulting codebook looks like this:\n",
    "\n",
    "![Codebook](./images/codebook.png)\n",
    "\n",
    "Can you see the problem? The maximum value in the \"Pork\" column is 55. Compared to both \"Beef\" and \"Chicken\" sales, but also the 75th percentile of \"Pork\" sales, that seems way out of wack."
   ]
  },
  {
   "cell_type": "markdown",
   "id": "affecting-department",
   "metadata": {},
   "source": [
    "If we go back to the original data, we can see a pretty obvious typo of \"55\" instead of \"5\".\n",
    "\n",
    "![Too Much Pork](./images/too-much-pork.png)\n",
    "\n",
    "Once we fix that, we can reload all of our data, join the two sheets together again, and get graphs and codebooks like we'd expect."
   ]
  },
  {
   "cell_type": "code",
   "execution_count": 18,
   "id": "approved-yugoslavia",
   "metadata": {},
   "outputs": [
    {
     "data": {
      "text/html": [
       "<div>\n",
       "<style scoped>\n",
       "    .dataframe tbody tr th:only-of-type {\n",
       "        vertical-align: middle;\n",
       "    }\n",
       "\n",
       "    .dataframe tbody tr th {\n",
       "        vertical-align: top;\n",
       "    }\n",
       "\n",
       "    .dataframe thead th {\n",
       "        text-align: right;\n",
       "    }\n",
       "</style>\n",
       "<table border=\"1\" class=\"dataframe\">\n",
       "  <thead>\n",
       "    <tr style=\"text-align: right;\">\n",
       "      <th></th>\n",
       "      <th>Beef</th>\n",
       "      <th>Chicken</th>\n",
       "      <th>Pork</th>\n",
       "      <th>Location</th>\n",
       "      <th>Weather</th>\n",
       "    </tr>\n",
       "    <tr>\n",
       "      <th>Date</th>\n",
       "      <th></th>\n",
       "      <th></th>\n",
       "      <th></th>\n",
       "      <th></th>\n",
       "      <th></th>\n",
       "    </tr>\n",
       "  </thead>\n",
       "  <tbody>\n",
       "    <tr>\n",
       "      <th>4/1</th>\n",
       "      <td>4</td>\n",
       "      <td>5</td>\n",
       "      <td>4</td>\n",
       "      <td>Golden</td>\n",
       "      <td>Cloudy</td>\n",
       "    </tr>\n",
       "    <tr>\n",
       "      <th>4/2</th>\n",
       "      <td>3</td>\n",
       "      <td>5</td>\n",
       "      <td>3</td>\n",
       "      <td>Aurora</td>\n",
       "      <td>Sun</td>\n",
       "    </tr>\n",
       "    <tr>\n",
       "      <th>4/3</th>\n",
       "      <td>1</td>\n",
       "      <td>3</td>\n",
       "      <td>5</td>\n",
       "      <td>Golden</td>\n",
       "      <td>Sun</td>\n",
       "    </tr>\n",
       "    <tr>\n",
       "      <th>...</th>\n",
       "      <td>...</td>\n",
       "      <td>...</td>\n",
       "      <td>...</td>\n",
       "      <td>...</td>\n",
       "      <td>...</td>\n",
       "    </tr>\n",
       "    <tr>\n",
       "      <th>4/12</th>\n",
       "      <td>2</td>\n",
       "      <td>3</td>\n",
       "      <td>4</td>\n",
       "      <td>Denver</td>\n",
       "      <td>Wind</td>\n",
       "    </tr>\n",
       "    <tr>\n",
       "      <th>4/13</th>\n",
       "      <td>1</td>\n",
       "      <td>7</td>\n",
       "      <td>5</td>\n",
       "      <td>Denver</td>\n",
       "      <td>Sun</td>\n",
       "    </tr>\n",
       "    <tr>\n",
       "      <th>4/14</th>\n",
       "      <td>0</td>\n",
       "      <td>3</td>\n",
       "      <td>5</td>\n",
       "      <td>Denver</td>\n",
       "      <td>Sun</td>\n",
       "    </tr>\n",
       "  </tbody>\n",
       "</table>\n",
       "<p>14 rows × 5 columns</p>\n",
       "</div>"
      ],
      "text/plain": [
       "      Beef  Chicken  Pork Location Weather\n",
       "Date                                      \n",
       "4/1      4        5     4   Golden  Cloudy\n",
       "4/2      3        5     3   Aurora     Sun\n",
       "4/3      1        3     5   Golden     Sun\n",
       "...    ...      ...   ...      ...     ...\n",
       "4/12     2        3     4   Denver    Wind\n",
       "4/13     1        7     5   Denver     Sun\n",
       "4/14     0        3     5   Denver     Sun\n",
       "\n",
       "[14 rows x 5 columns]"
      ]
     },
     "execution_count": 18,
     "metadata": {},
     "output_type": "execute_result"
    }
   ],
   "source": [
    "df = pd.read_csv('./versions/Taco Sales - v6.csv', index_col='Date')\n",
    "weather_df = pd.read_csv('./versions/Weather - v2.csv', index_col='Date')\n",
    "df = df.join(weather_df)\n",
    "df"
   ]
  },
  {
   "cell_type": "code",
   "execution_count": 19,
   "id": "square-tiger",
   "metadata": {},
   "outputs": [
    {
     "data": {
      "text/plain": [
       "<AxesSubplot:xlabel='Date'>"
      ]
     },
     "execution_count": 19,
     "metadata": {},
     "output_type": "execute_result"
    },
    {
     "data": {
      "image/png": "[encoded data removed]",
      "text/plain": [
       "<Figure size 432x288 with 1 Axes>"
      ]
     },
     "metadata": {
      "needs_background": "light"
     },
     "output_type": "display_data"
    }
   ],
   "source": [
    "df[['Beef', 'Chicken', 'Pork']].plot(colormap=cm.Paired)"
   ]
  },
  {
   "cell_type": "code",
   "execution_count": 20,
   "id": "advised-spider",
   "metadata": {},
   "outputs": [
    {
     "data": {
      "text/plain": [
       "<AxesSubplot:xlabel='Weather'>"
      ]
     },
     "execution_count": 20,
     "metadata": {},
     "output_type": "execute_result"
    },
    {
     "data": {
      "image/png": "[encoded data removed]",
      "text/plain": [
       "<Figure size 432x288 with 1 Axes>"
      ]
     },
     "metadata": {
      "needs_background": "light"
     },
     "output_type": "display_data"
    }
   ],
   "source": [
    "df[['Beef', 'Chicken', 'Pork', 'Weather']].groupby('Weather').mean().plot(kind='bar', colormap=cm.Paired)"
   ]
  },
  {
   "cell_type": "code",
   "execution_count": 21,
   "id": "identified-chassis",
   "metadata": {},
   "outputs": [],
   "source": [
    "df['Weather'] = df['Weather'].astype(\"category\")\n",
    "df['Location'] = df['Location'].astype(\"category\")\n",
    "\n",
    "desc_df = pd.DataFrame(index=['count', 'dtype', 'unique', 'top', 'freq', 'mean', 'std', 'min', '25%', '50%', '75%', 'max'])\n",
    "cats_df = pd.DataFrame()\n",
    "labels = set()\n",
    "\n",
    "for col in df.columns:\n",
    "    df_col = df[col].describe().to_frame().astype('object')\n",
    "    df_col.loc['dtype'] = df[col].dtype.name\n",
    "    labels = labels | set(df_col.index.values)\n",
    "\n",
    "    desc_df = desc_df.join(df_col, how='left')\n",
    "    \n",
    "    if df[col].dtype.name == 'category':\n",
    "        df_cats = df[col].dtype.categories\\\n",
    "            .to_frame(name=col)\\\n",
    "            .reset_index(drop=True)\n",
    "        cats_df = cats_df.join(df_cats, how='outer')\n",
    "    \n",
    "desc_df = desc_df.append(cats_df)\n",
    "desc_df.to_csv('./codebook-2.csv')"
   ]
  },
  {
   "cell_type": "markdown",
   "id": "bacterial-landing",
   "metadata": {},
   "source": [
    "![Codebook 2](./images/codebook-2.png)"
   ]
  },
  {
   "cell_type": "markdown",
   "id": "governing-destruction",
   "metadata": {},
   "source": [
    "Going back to the question in our title, hopefully you have a better sense of why the software developer you're working with keeps complaining about nitpicky little things like spaces and inconsistent capitalization. It's not that they're driven by overwhelming OCD, but that the tools that they *use* are.\n",
    "\n",
    "In many cases, there are programatic solutions to the problems I've described. In almost all of them though, some kinds of assumptions must be made that could potentially result in data loss - try ignoring capitalization in \"ExpertsExchange\" and see if the meaning changes.\n",
    "\n",
    "So, to keep everyone happy, a couple tips for cleanly formated data:\n",
    "\n",
    "+ Use a plaintext format, like CSV, instead of the default XLSX output.\n",
    "+ Use a consistent date format. [ISO 8601](https://en.wikipedia.org/wiki/ISO_8601) is a fantastic one, but in most cases, consistency is the most important thing.\n",
    "+ Make sure to trim leading and trailing spaces. They can be hard to spot in excel, but that's where a well made codebook can come in handy.\n",
    "+ Provide a codebook! They're super helpful for spotting your own errors, but are also useful for someone who doesn't know the data as well as you do to get themselves familiar with your dataset and know what to expect."
   ]
  }
 ],
 "metadata": {
  "kernelspec": {
   "display_name": "Python 3",
   "language": "python",
   "name": "python3"
  },
  "language_info": {
   "codemirror_mode": {
    "name": "ipython",
    "version": 3
   },
   "file_extension": ".py",
   "mimetype": "text/x-python",
   "name": "python",
   "nbconvert_exporter": "python",
   "pygments_lexer": "ipython3",
   "version": "3.8.2"
  }
 },
 "nbformat": 4,
 "nbformat_minor": 5
}
